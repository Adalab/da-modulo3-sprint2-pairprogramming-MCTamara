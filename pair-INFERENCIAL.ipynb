{
 "cells": [
  {
   "cell_type": "markdown",
   "metadata": {},
   "source": [
    "Pair programming Estadística Inferencial"
   ]
  },
  {
   "cell_type": "markdown",
   "metadata": {},
   "source": [
    "1. Igual que en los ejercicios de la clase invertida, evalúa si las siguientes afirmaciones corresponden a una distribución exponencial o poisson."
   ]
  },
  {
   "cell_type": "markdown",
   "metadata": {},
   "source": [
    "a. ¿El tiempo que transcurre entre la llegada de autobuses a una parada sigue una distribución exponencial o de Poisson?"
   ]
  },
  {
   "cell_type": "markdown",
   "metadata": {},
   "source": [
    "- En este caso estamos hablando de una distribucción exponencial, debido a que estamos hablando de tiempos continuos y el tiempo entre la llegada sucesiva de autobuses."
   ]
  },
  {
   "cell_type": "markdown",
   "metadata": {},
   "source": [
    "b.¿El número de errores en un artículo de noticias sigue una distribución exponencial o de Poisson?"
   ]
  },
  {
   "cell_type": "markdown",
   "metadata": {},
   "source": [
    "- Si se considera que estamos hablando del número total de errores en un artículo de noticias y consideramos este un evento discreto, entonces la distibución más adecuada es la de Poisson."
   ]
  },
  {
   "cell_type": "markdown",
   "metadata": {},
   "source": [
    "c. ¿El tiempo que transcurre entre la llegada de solicitudes de servicio en un restaurante sigue una distribución exponencial o de Poisson?"
   ]
  },
  {
   "cell_type": "markdown",
   "metadata": {},
   "source": [
    "- En este caso es exponencial ya que mide la cantidad de solicitudes de servicio que pasa de manera continua en un espacio de tiempo. Estos servicios con independinetes."
   ]
  },
  {
   "cell_type": "markdown",
   "metadata": {},
   "source": [
    "d. ¿El número de accidentes de tráfico en una hora en una ciudad sigue una distribución exponencial o de Poisson?"
   ]
  },
  {
   "cell_type": "markdown",
   "metadata": {},
   "source": [
    "- En este caso particular es una distribución Poisson ya que mide la cantidad de accidentes de tráfico, en este caso concreto, que se dan en una hora en una ciudad. "
   ]
  },
  {
   "cell_type": "markdown",
   "metadata": {},
   "source": [
    "e. ¿El tiempo entre llegadas de llamadas telefónicas a una central de emergencias sigue una distribución exponencial o de Poisson?"
   ]
  },
  {
   "cell_type": "markdown",
   "metadata": {},
   "source": [
    "- En este caso estamos ante una distribución exponencial, ya que estamos analizando el tiempo entre una llegada de llamada y otra llegada, es decir, es el tiempo entre uno y otro evento."
   ]
  },
  {
   "cell_type": "markdown",
   "metadata": {},
   "source": [
    "f. ¿El número de clientes que ingresan a una tienda en una hora sigue una distribución exponencial o de Poisson?"
   ]
  },
  {
   "cell_type": "markdown",
   "metadata": {},
   "source": [
    "- Este caso es igual al del banco que hemos tratado en clase hoy, por lo tanto, estamos hablando de una distribución exponencial porque mide la cantidad de personas que entran en la tiensa en un espacio de tiempo determinado, en este caso, en una hora."
   ]
  },
  {
   "cell_type": "markdown",
   "metadata": {},
   "source": [
    "g. ¿El tiempo entre llegadas de correos electrónicos en una bandeja de entrada sigue una distribución exponencial o de Poisson?"
   ]
  },
  {
   "cell_type": "markdown",
   "metadata": {},
   "source": [
    "- Si lo que tenemos en cuenta es el tiempo de llegada consecutiva de correos electrónicos y damos por sentado que los tiempos son continuos, la distribución exponencial es la más apropiada en este caso."
   ]
  },
  {
   "cell_type": "markdown",
   "metadata": {},
   "source": [
    "h. ¿El número de defectos en una línea de producción por día sigue una distribución exponencial o de Poisson?"
   ]
  },
  {
   "cell_type": "markdown",
   "metadata": {},
   "source": [
    "- Si en lo que nos centramos es en el número total de defectos en una línea de producción por día y se considera que son eventros discretos, en ese caso, estamos hablando de una distribucción Poisson."
   ]
  },
  {
   "cell_type": "markdown",
   "metadata": {},
   "source": [
    "i. ¿El tiempo que transcurre entre la llegada de taxis en una parada sigue una distribución exponencial o de Poisson?"
   ]
  },
  {
   "cell_type": "markdown",
   "metadata": {},
   "source": [
    "- En este caso es una distribución exponencial, ya que lo que se analiza es el tiempo que transcurre entre la llegada de taxis en una parada. "
   ]
  },
  {
   "cell_type": "markdown",
   "metadata": {},
   "source": [
    "j. ¿El número de errores de ortografía en un libro de texto sigue una distribución exponencial o de Poisson?"
   ]
  },
  {
   "cell_type": "markdown",
   "metadata": {},
   "source": [
    "- Si lo que se analiza es el número total de errores de ortografía en este libro de texo y lo consideramos como un evento discreto (cada error ortográfico es un evento discreto), entonces la distribución de Poisson es la más adecuada."
   ]
  },
  {
   "cell_type": "markdown",
   "metadata": {},
   "source": [
    "2. Ejercicios intervalo de confianza. Al igual que en el caso del ejercicio de la clase invertida, piensa un motivo por el que sería interesante calcular estos intervalos de confianza para la extracción de insights."
   ]
  },
  {
   "cell_type": "code",
   "execution_count": 1,
   "metadata": {},
   "outputs": [],
   "source": [
    "\n",
    "import pandas as pd\n",
    "import numpy as np\n",
    "import random\n",
    "\n",
    "# Librerías de visualización\n",
    "# -----------------------------------------------------------------------\n",
    "import seaborn as sns\n",
    "import matplotlib.pyplot as plt\n",
    "\n",
    "# Evaluar linealidad de las relaciones entre las variables\n",
    "# ------------------------------------------------------------------------------\n",
    "from scipy.stats import shapiro, kstest\n",
    "\n",
    "# Configuración\n",
    "# -----------------------------------------------------------------------\n",
    "pd.set_option('display.max_columns', None) # para poder visualizar todas las columnas de los DataFrames\n",
    "\n",
    "# Gestión de los warnings\n",
    "# -----------------------------------------------------------------------\n",
    "import warnings\n",
    "warnings.filterwarnings(\"ignore\")\n"
   ]
  },
  {
   "cell_type": "code",
   "execution_count": 2,
   "metadata": {},
   "outputs": [],
   "source": [
    "from scipy import stats"
   ]
  },
  {
   "cell_type": "code",
   "execution_count": 3,
   "metadata": {},
   "outputs": [
    {
     "data": {
      "text/html": [
       "<div>\n",
       "<style scoped>\n",
       "    .dataframe tbody tr th:only-of-type {\n",
       "        vertical-align: middle;\n",
       "    }\n",
       "\n",
       "    .dataframe tbody tr th {\n",
       "        vertical-align: top;\n",
       "    }\n",
       "\n",
       "    .dataframe thead th {\n",
       "        text-align: right;\n",
       "    }\n",
       "</style>\n",
       "<table border=\"1\" class=\"dataframe\">\n",
       "  <thead>\n",
       "    <tr style=\"text-align: right;\">\n",
       "      <th></th>\n",
       "      <th>country</th>\n",
       "      <th>density</th>\n",
       "      <th>abbreviation</th>\n",
       "      <th>agricultural_land(_%)</th>\n",
       "      <th>land_area</th>\n",
       "      <th>armed_forces_size</th>\n",
       "      <th>calling_code</th>\n",
       "      <th>capital/major_city</th>\n",
       "      <th>cpi</th>\n",
       "      <th>cpi_change_</th>\n",
       "      <th>currency-code</th>\n",
       "      <th>forested_area_</th>\n",
       "      <th>gasoline_price</th>\n",
       "      <th>gdp</th>\n",
       "      <th>gross_primary_education_enrollment_</th>\n",
       "      <th>gross_tertiary_education_enrollment_</th>\n",
       "      <th>largest_city</th>\n",
       "      <th>minimum_wage</th>\n",
       "      <th>official_language</th>\n",
       "      <th>out_of_pocket_health_expenditure</th>\n",
       "      <th>physicians_per_thousand</th>\n",
       "      <th>population</th>\n",
       "      <th>population_labor_force_participation_</th>\n",
       "      <th>tax_revenue_</th>\n",
       "      <th>total_tax_rate</th>\n",
       "      <th>unemployment_rate</th>\n",
       "      <th>urban_population</th>\n",
       "      <th>latitud</th>\n",
       "      <th>longitud</th>\n",
       "      <th>continent</th>\n",
       "      <th>birth_rate</th>\n",
       "      <th>co2-emissions</th>\n",
       "      <th>fertility_rate</th>\n",
       "      <th>infant_mortality</th>\n",
       "      <th>life_expectancy</th>\n",
       "      <th>maternal_mortality_ratio</th>\n",
       "    </tr>\n",
       "  </thead>\n",
       "  <tbody>\n",
       "    <tr>\n",
       "      <th>0</th>\n",
       "      <td>Afghanistan</td>\n",
       "      <td>60.0</td>\n",
       "      <td>AF</td>\n",
       "      <td>58.1</td>\n",
       "      <td>652.23</td>\n",
       "      <td>323.0</td>\n",
       "      <td>93.0</td>\n",
       "      <td>Kabul</td>\n",
       "      <td>149.9</td>\n",
       "      <td>2.3</td>\n",
       "      <td>AFN</td>\n",
       "      <td>2.1</td>\n",
       "      <td>0.7</td>\n",
       "      <td>19101353833.0</td>\n",
       "      <td>104.0</td>\n",
       "      <td>9.7</td>\n",
       "      <td>Kabul</td>\n",
       "      <td>0.43</td>\n",
       "      <td>Pashto</td>\n",
       "      <td>78.4</td>\n",
       "      <td>0.28</td>\n",
       "      <td>38041754.0</td>\n",
       "      <td>48.9</td>\n",
       "      <td>9.3</td>\n",
       "      <td>71.4</td>\n",
       "      <td>11.12</td>\n",
       "      <td>9797273.0</td>\n",
       "      <td>33.93911</td>\n",
       "      <td>67.709953</td>\n",
       "      <td>Asia</td>\n",
       "      <td>32.49</td>\n",
       "      <td>8.672</td>\n",
       "      <td>4.47</td>\n",
       "      <td>47.9</td>\n",
       "      <td>64.5</td>\n",
       "      <td>638.0</td>\n",
       "    </tr>\n",
       "    <tr>\n",
       "      <th>1</th>\n",
       "      <td>Albania</td>\n",
       "      <td>105.0</td>\n",
       "      <td>AL</td>\n",
       "      <td>43.1</td>\n",
       "      <td>28.748</td>\n",
       "      <td>9.0</td>\n",
       "      <td>355.0</td>\n",
       "      <td>Tirana</td>\n",
       "      <td>119.05</td>\n",
       "      <td>1.4</td>\n",
       "      <td>ALL</td>\n",
       "      <td>28.1</td>\n",
       "      <td>1.36</td>\n",
       "      <td>15278077447.0</td>\n",
       "      <td>107.0</td>\n",
       "      <td>55.0</td>\n",
       "      <td>Tirana</td>\n",
       "      <td>1.12</td>\n",
       "      <td>Albanian</td>\n",
       "      <td>56.9</td>\n",
       "      <td>1.2</td>\n",
       "      <td>2854191.0</td>\n",
       "      <td>55.7</td>\n",
       "      <td>18.6</td>\n",
       "      <td>36.6</td>\n",
       "      <td>12.33</td>\n",
       "      <td>1747593.0</td>\n",
       "      <td>41.153332</td>\n",
       "      <td>20.168331</td>\n",
       "      <td>Europe</td>\n",
       "      <td>11.78</td>\n",
       "      <td>4.536</td>\n",
       "      <td>1.62</td>\n",
       "      <td>7.8</td>\n",
       "      <td>78.5</td>\n",
       "      <td>15.0</td>\n",
       "    </tr>\n",
       "    <tr>\n",
       "      <th>2</th>\n",
       "      <td>Algeria</td>\n",
       "      <td>18.0</td>\n",
       "      <td>DZ</td>\n",
       "      <td>17.4</td>\n",
       "      <td>Unknown</td>\n",
       "      <td>317.0</td>\n",
       "      <td>213.0</td>\n",
       "      <td>Algiers</td>\n",
       "      <td>151.36</td>\n",
       "      <td>2.0</td>\n",
       "      <td>DZD</td>\n",
       "      <td>0.8</td>\n",
       "      <td>0.28</td>\n",
       "      <td>169988236398.0</td>\n",
       "      <td>109.9</td>\n",
       "      <td>51.4</td>\n",
       "      <td>Algiers</td>\n",
       "      <td>0.95</td>\n",
       "      <td>Arabic</td>\n",
       "      <td>28.1</td>\n",
       "      <td>1.72</td>\n",
       "      <td>43053054.0</td>\n",
       "      <td>41.2</td>\n",
       "      <td>37.2</td>\n",
       "      <td>66.1</td>\n",
       "      <td>11.7</td>\n",
       "      <td>31510100.0</td>\n",
       "      <td>28.033886</td>\n",
       "      <td>1.659626</td>\n",
       "      <td>Africa</td>\n",
       "      <td>24.28</td>\n",
       "      <td>150.006</td>\n",
       "      <td>3.02</td>\n",
       "      <td>20.1</td>\n",
       "      <td>76.7</td>\n",
       "      <td>112.0</td>\n",
       "    </tr>\n",
       "  </tbody>\n",
       "</table>\n",
       "</div>"
      ],
      "text/plain": [
       "       country  density abbreviation agricultural_land(_%) land_area  \\\n",
       "0  Afghanistan     60.0           AF                  58.1    652.23   \n",
       "1      Albania    105.0           AL                  43.1    28.748   \n",
       "2      Algeria     18.0           DZ                  17.4   Unknown   \n",
       "\n",
       "  armed_forces_size calling_code capital/major_city     cpi cpi_change_  \\\n",
       "0             323.0         93.0              Kabul   149.9         2.3   \n",
       "1               9.0        355.0             Tirana  119.05         1.4   \n",
       "2             317.0        213.0            Algiers  151.36         2.0   \n",
       "\n",
       "  currency-code forested_area_ gasoline_price             gdp  \\\n",
       "0           AFN            2.1            0.7   19101353833.0   \n",
       "1           ALL           28.1           1.36   15278077447.0   \n",
       "2           DZD            0.8           0.28  169988236398.0   \n",
       "\n",
       "  gross_primary_education_enrollment_ gross_tertiary_education_enrollment_  \\\n",
       "0                               104.0                                  9.7   \n",
       "1                               107.0                                 55.0   \n",
       "2                               109.9                                 51.4   \n",
       "\n",
       "  largest_city minimum_wage official_language  \\\n",
       "0        Kabul         0.43            Pashto   \n",
       "1       Tirana         1.12          Albanian   \n",
       "2      Algiers         0.95            Arabic   \n",
       "\n",
       "  out_of_pocket_health_expenditure physicians_per_thousand  population  \\\n",
       "0                             78.4                    0.28  38041754.0   \n",
       "1                             56.9                     1.2   2854191.0   \n",
       "2                             28.1                    1.72  43053054.0   \n",
       "\n",
       "  population_labor_force_participation_ tax_revenue_ total_tax_rate  \\\n",
       "0                                  48.9          9.3           71.4   \n",
       "1                                  55.7         18.6           36.6   \n",
       "2                                  41.2         37.2           66.1   \n",
       "\n",
       "  unemployment_rate urban_population    latitud   longitud continent  \\\n",
       "0             11.12        9797273.0   33.93911  67.709953      Asia   \n",
       "1             12.33        1747593.0  41.153332  20.168331    Europe   \n",
       "2              11.7       31510100.0  28.033886   1.659626    Africa   \n",
       "\n",
       "   birth_rate  co2-emissions  fertility_rate  infant_mortality  \\\n",
       "0       32.49          8.672            4.47              47.9   \n",
       "1       11.78          4.536            1.62               7.8   \n",
       "2       24.28        150.006            3.02              20.1   \n",
       "\n",
       "   life_expectancy  maternal_mortality_ratio  \n",
       "0             64.5                     638.0  \n",
       "1             78.5                      15.0  \n",
       "2             76.7                     112.0  "
      ]
     },
     "execution_count": 3,
     "metadata": {},
     "output_type": "execute_result"
    }
   ],
   "source": [
    "df = pd.read_csv('world_data_nonull.csv', index_col=0)\n",
    "df.head(3)"
   ]
  },
  {
   "cell_type": "code",
   "execution_count": 4,
   "metadata": {},
   "outputs": [
    {
     "data": {
      "text/plain": [
       "Index(['country', 'density', 'abbreviation', 'agricultural_land(_%)',\n",
       "       'land_area', 'armed_forces_size', 'calling_code', 'capital/major_city',\n",
       "       'cpi', 'cpi_change_', 'currency-code', 'forested_area_',\n",
       "       'gasoline_price', 'gdp', 'gross_primary_education_enrollment_',\n",
       "       'gross_tertiary_education_enrollment_', 'largest_city', 'minimum_wage',\n",
       "       'official_language', 'out_of_pocket_health_expenditure',\n",
       "       'physicians_per_thousand', 'population',\n",
       "       'population_labor_force_participation_', 'tax_revenue_',\n",
       "       'total_tax_rate', 'unemployment_rate', 'urban_population', 'latitud',\n",
       "       'longitud', 'continent', 'birth_rate', 'co2-emissions',\n",
       "       'fertility_rate', 'infant_mortality', 'life_expectancy',\n",
       "       'maternal_mortality_ratio'],\n",
       "      dtype='object')"
      ]
     },
     "execution_count": 4,
     "metadata": {},
     "output_type": "execute_result"
    }
   ],
   "source": [
    "df.columns"
   ]
  },
  {
   "cell_type": "markdown",
   "metadata": {},
   "source": [
    "a.Intervalo de Confianza para la Esperanza de Vida\n",
    "Contexto: Trabajas en una organización de salud global y deseas estimar el intervalo de confianza al 95% para la esperanza de vida promedio de cada continente.\n",
    "Nota: Cuidado porque puede que os salgan algunos nulos, genera un código para que no salgan nulos en los intervalos de confianza."
   ]
  },
  {
   "cell_type": "code",
   "execution_count": 6,
   "metadata": {},
   "outputs": [
    {
     "name": "stdout",
     "output_type": "stream",
     "text": [
      "continent\n",
      "Africa             (62.92295082652804, 66.5054011423587)\n",
      "Asia              (72.36815978321019, 75.08099351447257)\n",
      "Europe            (78.20313283042847, 80.44321622158907)\n",
      "North America     (73.08038595299217, 76.80850293589671)\n",
      "Oceania           (68.16608505194156, 75.45719480545591)\n",
      "South America     (72.94535743062862, 76.92130923603806)\n",
      "Unknown          (62.445817713130076, 76.08074200166493)\n",
      "Name: life_expectancy, dtype: object\n"
     ]
    }
   ],
   "source": [
    "\n",
    "data = df.dropna(subset=['life_expectancy'])\n",
    "\n",
    "\n",
    "intervalos_confianza = data.groupby('continent')['life_expectancy'].agg(lambda x: stats.t.interval(0.95, len(x)-1, loc=np.mean(x), scale=stats.sem(x)))\n",
    "\n",
    "\n",
    "print(intervalos_confianza)"
   ]
  },
  {
   "cell_type": "markdown",
   "metadata": {},
   "source": [
    "b.Intervalo de Confianza para el PIB\n",
    "Contexto: Eres una economista y quieres calcular el intervalo de confianza al 90% para el Producto Interno Bruto (PIB) de los continentes."
   ]
  },
  {
   "cell_type": "code",
   "execution_count": 10,
   "metadata": {},
   "outputs": [
    {
     "name": "stdout",
     "output_type": "stream",
     "text": [
      "continent\n",
      "Africa           2.554814e+10\n",
      "Asia             8.289264e+10\n",
      "Europe           2.776192e+11\n",
      "North America   -5.810981e+11\n",
      "Oceania         -5.468013e+10\n",
      "South America    7.908478e+10\n",
      "Unknown         -2.173168e+09\n",
      "Name: gdp, dtype: float64\n",
      "continent\n",
      "Africa           6.415929e+10\n",
      "Asia             1.517492e+12\n",
      "Europe           7.050291e+11\n",
      "North America    3.335768e+12\n",
      "Oceania          3.270724e+11\n",
      "South America    5.635048e+11\n",
      "Unknown          5.895004e+10\n",
      "Name: gdp, dtype: float64\n"
     ]
    }
   ],
   "source": [
    "data = df.dropna(subset=['gdp'])\n",
    "\n",
    "\n",
    "data['gdp'] = pd.to_numeric(data['gdp'], errors='coerce')\n",
    "\n",
    "\n",
    "data = data.dropna(subset=['gdp'])\n",
    "\n",
    "media_confi_gdp = data.groupby('continent')['gdp'].mean()\n",
    "error_gdp = data.groupby('continent')['gdp'].apply(stats.sem)\n",
    "grados_libertad = len(data['gdp']) - 1\n",
    "nivel_confi = 0.90\n",
    "valor_critico = stats.t.ppf((1 + nivel_confi) / 2, df=grados_libertad)\n",
    "lim_inf = media_confi_gdp - valor_critico * error_gdp\n",
    "lim_sup = media_confi_gdp + valor_critico * error_gdp\n",
    "\n",
    "print(lim_inf)\n",
    "print(lim_sup)"
   ]
  },
  {
   "cell_type": "markdown",
   "metadata": {},
   "source": [
    "c.Intervalo de Confianza para la Tasa de Natalidad\n",
    "Contexto: Trabajas en una agencia gubernamental que se ocupa de cuestiones demográficas y deseas determinar el intervalo de confianza al 99% para la tasa de natalidad promedio en Asia."
   ]
  },
  {
   "cell_type": "code",
   "execution_count": 20,
   "metadata": {},
   "outputs": [
    {
     "name": "stdout",
     "output_type": "stream",
     "text": [
      "Intervalo de Confianza :\n",
      "Media Muestral: 18.57\n",
      "Error Estándar: 0.92\n",
      "Nivel de Confianza: 0.99\n",
      "Valor Crítico: 2.68\n",
      "Intervalo de Confianza: (16.1, 21.05)\n"
     ]
    }
   ],
   "source": [
    "natalidad_asia = df.loc[df['continent']== 'Asia','birth_rate']\n",
    "    \n",
    "\n",
    "media = natalidad_asia.mean()\n",
    "media \n",
    "\n",
    "# calculamos el error\n",
    "\n",
    "error = stats.sem(natalidad_asia)\n",
    "\n",
    "nivel_confianza = 0.99\n",
    "\n",
    "grados_libertad = len(natalidad_asia)-1\n",
    "\n",
    "\n",
    "# calculamos el valor crítico de la muestra\n",
    "valor_critico= stats.t.ppf((1 + nivel_confianza) / 2, df=grados_libertad)\n",
    "\n",
    "# calculamos el intervalo de confianza\n",
    "limite_inferior = media - valor_critico * error\n",
    "limite_superior = media + valor_critico * error\n",
    "\n",
    "print(\"Intervalo de Confianza :\")\n",
    "print(f\"Media Muestral: {np.round(media, 2)}\")\n",
    "print(f\"Error Estándar: {np.round(error, 2)}\")\n",
    "print(f\"Nivel de Confianza: {nivel_confianza}\")\n",
    "print(f\"Valor Crítico: {np.round(valor_critico, 2)}\")\n",
    "print(f\"Intervalo de Confianza: ({np.round(limite_inferior, 2)}, {np.round(limite_superior, 2)})\")"
   ]
  },
  {
   "cell_type": "markdown",
   "metadata": {},
   "source": [
    "d.Intervalo de Confianza para la Tasa de Desempleo\n",
    "Contexto: Eres un analista de políticas públicas y deseas calcular el intervalo de confianza al 95% para la tasa de desempleo promedio en los países de Oceanía."
   ]
  },
  {
   "cell_type": "code",
   "execution_count": 13,
   "metadata": {},
   "outputs": [
    {
     "name": "stdout",
     "output_type": "stream",
     "text": [
      "Tasa de desempleo promedio en Oceanía: 3.79\n",
      "Intervalo de confianza al 95.0%: (1.73, 5.86)\n"
     ]
    }
   ],
   "source": [
    "\n",
    "data = df.dropna(subset=['unemployment_rate'])\n",
    "\n",
    "\n",
    "data['unemployment_rate'] = pd.to_numeric(data['unemployment_rate'], errors='coerce')\n",
    "\n",
    "\n",
    "data = data.dropna(subset=['unemployment_rate'])\n",
    "\n",
    "\n",
    "oceania_p = data[data['continent'] == 'Oceania']\n",
    "tasas_desempleo = oceania_p['unemployment_rate']\n",
    "\n",
    "# Calcular estadísticas\n",
    "media = np.mean(tasas_desempleo)\n",
    "desviacion_estandar = np.std(tasas_desempleo)\n",
    "grados_libertad2 = len(tasas_desempleo)\n",
    "nivel_confianza = 0.95\n",
    "error_estandar = stats.sem(tasas_desempleo)\n",
    "intervalo_confianza = stats.t.interval(nivel_confianza, grados_libertad2 - 1, loc=media, scale=error_estandar)\n",
    "\n",
    "# Muestra los resultados\n",
    "print(f\"Tasa de desempleo promedio en Oceanía: {media:.2f}\")\n",
    "print(f\"Intervalo de confianza al {nivel_confianza * 100}%: ({intervalo_confianza[0]:.2f}, {intervalo_confianza[1]:.2f})\")\n"
   ]
  },
  {
   "cell_type": "markdown",
   "metadata": {},
   "source": [
    "e.Intervalo de Confianza para la Tasa de Impuestos\n",
    "Contexto: Trabajas en un ministerio de finanzas y deseas estimar el intervalo de confianza al 90% para la tasa de impuestos promedio en los países de África."
   ]
  },
  {
   "cell_type": "code",
   "execution_count": 23,
   "metadata": {},
   "outputs": [
    {
     "name": "stdout",
     "output_type": "stream",
     "text": [
      "Intervalo de Confianza:\n",
      "Media Muestral: 47.48\n",
      "Error Estándar: 3.9\n",
      "Nivel de Confianza: 0.9\n",
      "Valor Crítico: 1.67\n",
      "Intervalo de Confianza: (40.95, 54.02)\n"
     ]
    }
   ],
   "source": [
    "\n",
    "tasa_impu_africa = df.loc[df['continent'] == 'Africa', 'total_tax_rate']\n",
    "\n",
    "# Convertir 'total_tax_rate' a números, tratando valores no numéricos como NaN\n",
    "tasa_impu_africa = pd.to_numeric(tasa_impu_africa, errors='coerce')\n",
    "\n",
    "# Eliminar filas con valores no numéricos\n",
    "tasa_impu_africa = tasa_impu_africa.dropna()\n",
    "\n",
    "# Continuar con el cálculo de la media y el intervalo de confianza\n",
    "media = tasa_impu_africa.mean()\n",
    "error = stats.sem(tasa_impu_africa)\n",
    "nivel_confianza = 0.90\n",
    "grados_libertad = len(tasa_impu_africa) - 1\n",
    "valor_critico = stats.t.ppf((1 + nivel_confianza) / 2, df=grados_libertad)\n",
    "limite_inferior = media - valor_critico * error\n",
    "limite_superior = media + valor_critico * error\n",
    "\n",
    "# Mostrar los resultados\n",
    "print(\"Intervalo de Confianza:\")\n",
    "print(f\"Media Muestral: {np.round(media, 2)}\")\n",
    "print(f\"Error Estándar: {np.round(error, 2)}\")\n",
    "print(f\"Nivel de Confianza: {nivel_confianza}\")\n",
    "print(f\"Valor Crítico: {np.round(valor_critico, 2)}\")\n",
    "print(f\"Intervalo de Confianza: ({np.round(limite_inferior, 2)}, {np.round(limite_superior, 2)})\")\n"
   ]
  },
  {
   "cell_type": "markdown",
   "metadata": {},
   "source": [
    "3. Ejercicios prueba de hipótesis: Hasta ahora en la lección y en los ejercicios de la clase invertida os hemos propuesto un contexto y unas hipótesis para entender que es la prueba de hipótesis. Ahora es tu turno, tienes que pensar en 2 hipótesis que quieras aceptar o rechazar usando una prueba de hipótesis en base a los datos que tenemos."
   ]
  },
  {
   "cell_type": "code",
   "execution_count": null,
   "metadata": {},
   "outputs": [],
   "source": [
    "#  HACER ESTE ÚLTIMO!!!!!!!!"
   ]
  }
 ],
 "metadata": {
  "kernelspec": {
   "display_name": "base",
   "language": "python",
   "name": "python3"
  },
  "language_info": {
   "codemirror_mode": {
    "name": "ipython",
    "version": 3
   },
   "file_extension": ".py",
   "mimetype": "text/x-python",
   "name": "python",
   "nbconvert_exporter": "python",
   "pygments_lexer": "ipython3",
   "version": "3.9.7"
  }
 },
 "nbformat": 4,
 "nbformat_minor": 2
}
